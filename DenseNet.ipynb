{
 "cells": [
  {
   "cell_type": "markdown",
   "id": "45579bb5",
   "metadata": {},
   "source": [
    "### oxford_flowers102 dataseti"
   ]
  },
  {
   "cell_type": "code",
   "execution_count": 1,
   "id": "95bf6df4",
   "metadata": {},
   "outputs": [],
   "source": [
    "import tensorflow as tf"
   ]
  },
  {
   "cell_type": "code",
   "execution_count": 2,
   "id": "6e184c39",
   "metadata": {},
   "outputs": [],
   "source": [
    "data_name = 'oxford_flowers102'"
   ]
  },
  {
   "cell_type": "markdown",
   "id": "4e3f8eef",
   "metadata": {},
   "source": [
    "#### Tensorflow datasetlaridan uc_merged datasetini yuklab olamiz"
   ]
  },
  {
   "cell_type": "code",
   "execution_count": 3,
   "id": "c7263fdc",
   "metadata": {},
   "outputs": [],
   "source": [
    "import tensorflow_datasets as tfds\n",
    "\n",
    "(train,test,validation), info = tfds.load(\n",
    "    data_name,\n",
    "    split=['test','train','validation'],\n",
    "    data_dir=\"dataset\\\\\",\n",
    "    shuffle_files=True,\n",
    "    as_supervised=True,\n",
    "    with_info=True,\n",
    "    batch_size=-1\n",
    ")"
   ]
  },
  {
   "cell_type": "code",
   "execution_count": 4,
   "id": "3c059814",
   "metadata": {},
   "outputs": [
    {
     "data": {
      "text/plain": [
       "tfds.core.DatasetInfo(\n",
       "    name='oxford_flowers102',\n",
       "    full_name='oxford_flowers102/2.1.1',\n",
       "    description=\"\"\"\n",
       "    The Oxford Flowers 102 dataset is a consistent of 102 flower categories commonly\n",
       "    occurring in the United Kingdom. Each class consists of between 40 and 258\n",
       "    images. The images have large scale, pose and light variations. In addition,\n",
       "    there are categories that have large variations within the category and several\n",
       "    very similar categories.\n",
       "    \n",
       "    The dataset is divided into a training set, a validation set and a test set. The\n",
       "    training set and validation set each consist of 10 images per class (totalling\n",
       "    1020 images each). The test set consists of the remaining 6149 images (minimum\n",
       "    20 per class).\n",
       "    \n",
       "    Note: The dataset by default comes with a test size larger than the train size.\n",
       "    For more info see this\n",
       "    [issue](https://github.com/tensorflow/datasets/issues/3022).\n",
       "    \"\"\",\n",
       "    homepage='https://www.robots.ox.ac.uk/~vgg/data/flowers/102/',\n",
       "    data_path='dataset\\\\oxford_flowers102\\\\2.1.1',\n",
       "    file_format=tfrecord,\n",
       "    download_size=328.90 MiB,\n",
       "    dataset_size=331.34 MiB,\n",
       "    features=FeaturesDict({\n",
       "        'file_name': Text(shape=(), dtype=string),\n",
       "        'image': Image(shape=(None, None, 3), dtype=uint8),\n",
       "        'label': ClassLabel(shape=(), dtype=int64, num_classes=102),\n",
       "    }),\n",
       "    supervised_keys=('image', 'label'),\n",
       "    disable_shuffling=False,\n",
       "    splits={\n",
       "        'test': <SplitInfo num_examples=6149, num_shards=2>,\n",
       "        'train': <SplitInfo num_examples=1020, num_shards=1>,\n",
       "        'validation': <SplitInfo num_examples=1020, num_shards=1>,\n",
       "    },\n",
       "    citation=\"\"\"@InProceedings{Nilsback08,\n",
       "       author = \"Nilsback, M-E. and Zisserman, A.\",\n",
       "       title = \"Automated Flower Classification over a Large Number of Classes\",\n",
       "       booktitle = \"Proceedings of the Indian Conference on Computer Vision, Graphics and Image Processing\",\n",
       "       year = \"2008\",\n",
       "       month = \"Dec\"\n",
       "    }\"\"\",\n",
       ")"
      ]
     },
     "execution_count": 4,
     "metadata": {},
     "output_type": "execute_result"
    }
   ],
   "source": [
    "info"
   ]
  },
  {
   "cell_type": "markdown",
   "id": "a630cf43",
   "metadata": {},
   "source": [
    "#### Image va labellarni preprocessingdan o'tkazamiz "
   ]
  },
  {
   "cell_type": "code",
   "execution_count": 5,
   "id": "7871de3b",
   "metadata": {},
   "outputs": [],
   "source": [
    "train_images,train_labels = tfds.as_numpy(train)\n",
    "test_images,test_labels = tfds.as_numpy(test)\n",
    "validation_images,validation_labels = tfds.as_numpy(validation)"
   ]
  },
  {
   "cell_type": "code",
   "execution_count": 6,
   "id": "183e6662",
   "metadata": {},
   "outputs": [],
   "source": [
    "import cv2\n",
    "import numpy as np\n",
    "\n",
    "def preprocessing(images,label):\n",
    "    images_ = []\n",
    "    \n",
    "    for i in range(len(images)):\n",
    "        image = cv2.cvtColor(images[i], cv2.COLOR_BGR2RGB)\n",
    "        image = cv2.resize(image,(224,224),interpolation = cv2.INTER_AREA)\n",
    "        image = image/127.5-1.0\n",
    "        image = image.astype('float16')\n",
    "        \n",
    "        images_.append(image)\n",
    "        \n",
    "    label = label.astype('uint16')\n",
    "    images = np.array(images_)\n",
    "    return images,label"
   ]
  },
  {
   "cell_type": "code",
   "execution_count": 7,
   "id": "46f2295e",
   "metadata": {},
   "outputs": [
    {
     "name": "stdout",
     "output_type": "stream",
     "text": [
      "Train images shape:(6149, 224, 224, 3)\n",
      "Train labels shape:(6149,)\n"
     ]
    }
   ],
   "source": [
    "train_images,train_labels = preprocessing(train_images,train_labels)\n",
    "print(f\"Train images shape:{train_images.shape}\\nTrain labels shape:{train_labels.shape}\")"
   ]
  },
  {
   "cell_type": "code",
   "execution_count": 8,
   "id": "5f89c89e",
   "metadata": {},
   "outputs": [
    {
     "name": "stdout",
     "output_type": "stream",
     "text": [
      "Test images shape:(1020, 224, 224, 3)\n",
      "Test labels shape:(1020,)\n"
     ]
    }
   ],
   "source": [
    "test_images,test_labels = preprocessing(test_images,test_labels)\n",
    "print(f\"Test images shape:{test_images.shape}\\nTest labels shape:{test_labels.shape}\")"
   ]
  },
  {
   "cell_type": "code",
   "execution_count": 9,
   "id": "e126a130",
   "metadata": {},
   "outputs": [
    {
     "name": "stdout",
     "output_type": "stream",
     "text": [
      "Validation images shape:(1020, 224, 224, 3)\n",
      "Validation labels shape:(1020,)\n"
     ]
    }
   ],
   "source": [
    "validation_images,validation_labels = preprocessing(validation_images,validation_labels)\n",
    "print(f\"Validation images shape:{validation_images.shape}\\nValidation labels shape:{validation_labels.shape}\")"
   ]
  },
  {
   "cell_type": "code",
   "execution_count": 10,
   "id": "a8fc1fbd",
   "metadata": {},
   "outputs": [],
   "source": [
    "train_ds = tf.data.Dataset.from_tensor_slices((train_images,train_labels)).batch(32)\n",
    "\n",
    "test_ds = tf.data.Dataset.from_tensor_slices((test_images,test_labels)).batch(32)\n",
    "\n",
    "validation_ds = tf.data.Dataset.from_tensor_slices((validation_images,validation_labels)).batch(32)"
   ]
  },
  {
   "cell_type": "markdown",
   "id": "e461e8b5",
   "metadata": {},
   "source": [
    "### Model o'qitish uchun DenseNet arxitekturasidan foydalanamiz\n"
   ]
  },
  {
   "cell_type": "code",
   "execution_count": 11,
   "id": "51d21f16",
   "metadata": {},
   "outputs": [],
   "source": [
    "import tensorflow as tf\n",
    "from tensorflow.keras.models import Model\n",
    "import tensorflow.keras.backend as K"
   ]
  },
  {
   "cell_type": "code",
   "execution_count": 12,
   "id": "3bad5b09",
   "metadata": {},
   "outputs": [],
   "source": [
    "class DenseNet121(Model):\n",
    "    def __init__(self, InputShape, Filters=32):\n",
    "        super(DenseNet121, self).__init__()\n",
    "        \n",
    "        self.InputShape = InputShape\n",
    "        self.Filters = Filters\n",
    "\n",
    "        def Convolution_Block(x, Filters, kernel=1, strides=1):\n",
    "            x = tf.keras.layers.BatchNormalization()(x)\n",
    "            x = tf.keras.layers.ReLU()(x)\n",
    "            x = tf.keras.layers.Conv2D(Filters, kernel, strides=strides, padding='same')(x)\n",
    "            return x\n",
    "\n",
    "        def Dense_Block(x, repetition):\n",
    "            for _ in range(repetition):\n",
    "                y = Convolution_Block(x, 4 * Filters)\n",
    "                y = Convolution_Block(y, Filters, 3)\n",
    "                x = tf.keras.layers.Concatenate()([y, x])\n",
    "            return x\n",
    "\n",
    "        def Transition_Layer(x):\n",
    "            x = Convolution_Block(x, K.int_shape(x)[-1] // 2)\n",
    "            x = tf.keras.layers.AvgPool2D(2, strides=2, padding='same')(x)\n",
    "            return x\n",
    "\n",
    "        inputs = tf.keras.layers.Input(InputShape)\n",
    "        x = tf.keras.layers.Conv2D(64, 7, strides=2, padding='same')(inputs)\n",
    "        x = tf.keras.layers.MaxPool2D(3, strides=2, padding='same')(x)\n",
    "\n",
    "        for repetition in [6, 12, 24, 16]:\n",
    "            d = Dense_Block(x, repetition)\n",
    "            x = Transition_Layer(d)\n",
    "\n",
    "        x = tf.keras.layers.GlobalAveragePooling2D()(d)\n",
    "        output = tf.keras.layers.Dense(102, activation='softmax')(x)\n",
    "\n",
    "        self.model = Model(inputs, output)\n",
    "\n",
    "    def call(self, inputs):\n",
    "        return self.model(inputs)"
   ]
  },
  {
   "cell_type": "code",
   "execution_count": 13,
   "id": "885840c0",
   "metadata": {},
   "outputs": [],
   "source": [
    "inputs_shape = 224, 224, 3\n",
    "model = DenseNet121(inputs_shape)\n",
    "\n",
    "inputs_tensor = tf.keras.layers.Input(inputs_shape)\n",
    "output_tensor = model(inputs_tensor)\n",
    "\n",
    "model = Model(inputs=inputs_tensor, outputs=output_tensor)"
   ]
  },
  {
   "cell_type": "code",
   "execution_count": 14,
   "id": "ef74e761",
   "metadata": {},
   "outputs": [],
   "source": [
    "loss_object = tf.keras.losses.SparseCategoricalCrossentropy()\n",
    "\n",
    "optimizer = tf.keras.optimizers.Adam()"
   ]
  },
  {
   "cell_type": "code",
   "execution_count": 15,
   "id": "cc78cc64",
   "metadata": {},
   "outputs": [],
   "source": [
    "train_loss = tf.keras.metrics.Mean(name='train_loss')\n",
    "train_accuracy = tf.keras.metrics.SparseCategoricalAccuracy(name='train_accuracy')\n",
    "\n",
    "test_loss = tf.keras.metrics.Mean(name='test_loss')\n",
    "test_accuracy = tf.keras.metrics.SparseCategoricalAccuracy(name='test_accuracy')"
   ]
  },
  {
   "cell_type": "code",
   "execution_count": 16,
   "id": "ad87e757",
   "metadata": {},
   "outputs": [],
   "source": [
    "@tf.function\n",
    "def train_step(images, labels):\n",
    "    with tf.GradientTape() as tape:\n",
    "\n",
    "        predictions = model(images, training=True)\n",
    "        loss = loss_object(labels, predictions)\n",
    "        \n",
    "    gradients = tape.gradient(loss, model.trainable_variables)\n",
    "    optimizer.apply_gradients(zip(gradients, model.trainable_variables))\n",
    "\n",
    "    train_loss(loss)\n",
    "    train_accuracy(labels, predictions)"
   ]
  },
  {
   "cell_type": "code",
   "execution_count": 17,
   "id": "215633a8",
   "metadata": {},
   "outputs": [],
   "source": [
    "@tf.function\n",
    "def test_step(images, labels):\n",
    "    \n",
    "    predictions = model(images, training=False)\n",
    "    t_loss = loss_object(labels, predictions)\n",
    "\n",
    "    test_loss(t_loss)\n",
    "    test_accuracy(labels, predictions)"
   ]
  },
  {
   "cell_type": "code",
   "execution_count": 18,
   "id": "05fe39ab",
   "metadata": {},
   "outputs": [
    {
     "name": "stdout",
     "output_type": "stream",
     "text": [
      "** 1-epoch:\n",
      "loss: 3.9972922801971436\tsparse_categorical_accuracy: 0.11140022426843643\n",
      "val_loss: 9.916070938110352\tval_sparse_categorical_accuracy:0.01274509821087122\n",
      "** 2-epoch:\n",
      "loss: 3.271921157836914\tsparse_categorical_accuracy: 0.2008456587791443\n",
      "val_loss: 4.767903804779053\tval_sparse_categorical_accuracy:0.09509804099798203\n",
      "** 3-epoch:\n",
      "loss: 2.897749423980713\tsparse_categorical_accuracy: 0.2603675425052643\n",
      "val_loss: 4.941200256347656\tval_sparse_categorical_accuracy:0.10784313827753067\n",
      "** 4-epoch:\n",
      "loss: 2.5932817459106445\tsparse_categorical_accuracy: 0.319076269865036\n",
      "val_loss: 5.119296550750732\tval_sparse_categorical_accuracy:0.14803922176361084\n",
      "** 5-epoch:\n",
      "loss: 2.32743763923645\tsparse_categorical_accuracy: 0.37664660811424255\n",
      "val_loss: 4.752178192138672\tval_sparse_categorical_accuracy:0.15294118225574493\n"
     ]
    }
   ],
   "source": [
    "EPOCHS = 5\n",
    "\n",
    "loss,val_loss = [],[]\n",
    "accuracy, val_accuracy = [],[]\n",
    "\n",
    "for epoch in range(EPOCHS):\n",
    "\n",
    "    train_loss.reset_states()\n",
    "    train_accuracy.reset_states()\n",
    "    \n",
    "    test_loss.reset_states()\n",
    "    test_accuracy.reset_states()\n",
    "\n",
    "    for images, labels in train_ds:\n",
    "        train_step(images, labels)\n",
    "\n",
    "    for val_images, val_labels in validation_ds:\n",
    "        test_step(val_images, val_labels)\n",
    "    \n",
    "    loss.append(train_loss.result())\n",
    "    accuracy.append(train_accuracy.result())\n",
    "    \n",
    "    val_loss.append(test_loss.result())\n",
    "    val_accuracy.append(test_accuracy.result())\n",
    "    \n",
    "    print(f\"** {epoch + 1}-epoch:\\nloss: {train_loss.result()}\\tsparse_categorical_accuracy: {train_accuracy.result()}\\nval_loss: {test_loss.result()}\\tval_sparse_categorical_accuracy:{test_accuracy.result()}\")"
   ]
  },
  {
   "cell_type": "code",
   "execution_count": 19,
   "id": "800c7903",
   "metadata": {},
   "outputs": [
    {
     "name": "stdout",
     "output_type": "stream",
     "text": [
      "test_loss: 4.85431432723999\n",
      "test_accuracy: 0.15490196645259857\n"
     ]
    }
   ],
   "source": [
    "for test_images,test_labels in test_ds:\n",
    "    test_step(test_images, test_labels)\n",
    "    \n",
    "print(f\"test_loss: {test_loss.result()}\\ntest_accuracy: {test_accuracy.result()}\")"
   ]
  },
  {
   "cell_type": "code",
   "execution_count": 20,
   "id": "aa866f76",
   "metadata": {},
   "outputs": [
    {
     "data": {
      "image/png": "[encoded data removed]",
      "text/plain": [
       "<Figure size 640x480 with 1 Axes>"
      ]
     },
     "metadata": {},
     "output_type": "display_data"
    }
   ],
   "source": [
    "import matplotlib.pyplot as plt\n",
    "epochs = [i for i in range(EPOCHS)]\n",
    "\n",
    "plt.plot(epochs, loss, label='loss')\n",
    "plt.plot(epochs, val_loss, label='val_loss')\n",
    "plt.legend()\n",
    "plt.show()"
   ]
  },
  {
   "cell_type": "code",
   "execution_count": 21,
   "id": "66e728c9",
   "metadata": {},
   "outputs": [
    {
     "data": {
      "image/png": "[encoded data removed]",
      "text/plain": [
       "<Figure size 640x480 with 1 Axes>"
      ]
     },
     "metadata": {},
     "output_type": "display_data"
    }
   ],
   "source": [
    "plt.plot(epochs, accuracy, label='accuracy')\n",
    "plt.plot(epochs, val_accuracy, label='val_accuracy')\n",
    "plt.legend()\n",
    "plt.show()"
   ]
  },
  {
   "cell_type": "code",
   "execution_count": 22,
   "id": "3a9c2067",
   "metadata": {},
   "outputs": [
    {
     "name": "stdout",
     "output_type": "stream",
     "text": [
      "Model: \"model_1\"\n",
      "_________________________________________________________________\n",
      " Layer (type)                Output Shape              Param #   \n",
      "=================================================================\n",
      " input_2 (InputLayer)        [(None, 224, 224, 3)]     0         \n",
      "                                                                 \n",
      " dense_net121 (DenseNet121)  (None, 102)               7147942   \n",
      "                                                                 \n",
      "=================================================================\n",
      "Total params: 7,147,942\n",
      "Trainable params: 7,066,470\n",
      "Non-trainable params: 81,472\n",
      "_________________________________________________________________\n"
     ]
    }
   ],
   "source": [
    "model.summary()"
   ]
  },
  {
   "cell_type": "code",
   "execution_count": 23,
   "id": "ceaed1af",
   "metadata": {},
   "outputs": [
    {
     "name": "stdout",
     "output_type": "stream",
     "text": [
      "WARNING:tensorflow:Compiled the loaded model, but the compiled metrics have yet to be built. `model.compile_metrics` will be empty until you train or evaluate the model.\n"
     ]
    },
    {
     "name": "stderr",
     "output_type": "stream",
     "text": [
      "WARNING:tensorflow:Compiled the loaded model, but the compiled metrics have yet to be built. `model.compile_metrics` will be empty until you train or evaluate the model.\n",
      "WARNING:absl:Found untraced functions such as _jit_compiled_convolution_op, _jit_compiled_convolution_op, _jit_compiled_convolution_op, _jit_compiled_convolution_op, _jit_compiled_convolution_op while saving (showing 5 of 120). These functions will not be directly callable after loading.\n"
     ]
    },
    {
     "name": "stdout",
     "output_type": "stream",
     "text": [
      "INFO:tensorflow:Assets written to: models/DenseNet/model\\assets\n"
     ]
    },
    {
     "name": "stderr",
     "output_type": "stream",
     "text": [
      "INFO:tensorflow:Assets written to: models/DenseNet/model\\assets\n"
     ]
    }
   ],
   "source": [
    "model.save('models/DenseNet/model')"
   ]
  }
 ],
 "metadata": {
  "kernelspec": {
   "display_name": "Python 3 (ipykernel)",
   "language": "python",
   "name": "python3"
  },
  "language_info": {
   "codemirror_mode": {
    "name": "ipython",
    "version": 3
   },
   "file_extension": ".py",
   "mimetype": "text/x-python",
   "name": "python",
   "nbconvert_exporter": "python",
   "pygments_lexer": "ipython3",
   "version": "3.8.10"
  }
 },
 "nbformat": 4,
 "nbformat_minor": 5
}
