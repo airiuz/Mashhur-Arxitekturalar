{
 "cells": [
  {
   "cell_type": "markdown",
   "id": "45579bb5",
   "metadata": {},
   "source": [
    "### oxford_flowers102 dataseti"
   ]
  },
  {
   "cell_type": "code",
   "execution_count": 1,
   "id": "95bf6df4",
   "metadata": {},
   "outputs": [],
   "source": [
    "import tensorflow as tf"
   ]
  },
  {
   "cell_type": "code",
   "execution_count": 2,
   "id": "6e184c39",
   "metadata": {},
   "outputs": [],
   "source": [
    "data_name = 'oxford_flowers102'"
   ]
  },
  {
   "cell_type": "markdown",
   "id": "4e3f8eef",
   "metadata": {},
   "source": [
    "#### Tensorflow datasetlaridan uc_merged datasetini yuklab olamiz"
   ]
  },
  {
   "cell_type": "code",
   "execution_count": 3,
   "id": "c7263fdc",
   "metadata": {},
   "outputs": [],
   "source": [
    "import tensorflow_datasets as tfds\n",
    "\n",
    "(train,test,validation), info = tfds.load(\n",
    "    data_name,\n",
    "    split=['test','train','validation'],\n",
    "    data_dir=\"dataset\\\\\",\n",
    "    shuffle_files=True,\n",
    "    as_supervised=True,\n",
    "    with_info=True,\n",
    "    batch_size=-1\n",
    ")"
   ]
  },
  {
   "cell_type": "code",
   "execution_count": 4,
   "id": "3c059814",
   "metadata": {},
   "outputs": [
    {
     "data": {
      "text/plain": [
       "tfds.core.DatasetInfo(\n",
       "    name='oxford_flowers102',\n",
       "    full_name='oxford_flowers102/2.1.1',\n",
       "    description=\"\"\"\n",
       "    The Oxford Flowers 102 dataset is a consistent of 102 flower categories commonly\n",
       "    occurring in the United Kingdom. Each class consists of between 40 and 258\n",
       "    images. The images have large scale, pose and light variations. In addition,\n",
       "    there are categories that have large variations within the category and several\n",
       "    very similar categories.\n",
       "    \n",
       "    The dataset is divided into a training set, a validation set and a test set. The\n",
       "    training set and validation set each consist of 10 images per class (totalling\n",
       "    1020 images each). The test set consists of the remaining 6149 images (minimum\n",
       "    20 per class).\n",
       "    \n",
       "    Note: The dataset by default comes with a test size larger than the train size.\n",
       "    For more info see this\n",
       "    [issue](https://github.com/tensorflow/datasets/issues/3022).\n",
       "    \"\"\",\n",
       "    homepage='https://www.robots.ox.ac.uk/~vgg/data/flowers/102/',\n",
       "    data_path='dataset\\\\oxford_flowers102\\\\2.1.1',\n",
       "    file_format=tfrecord,\n",
       "    download_size=328.90 MiB,\n",
       "    dataset_size=331.34 MiB,\n",
       "    features=FeaturesDict({\n",
       "        'file_name': Text(shape=(), dtype=string),\n",
       "        'image': Image(shape=(None, None, 3), dtype=uint8),\n",
       "        'label': ClassLabel(shape=(), dtype=int64, num_classes=102),\n",
       "    }),\n",
       "    supervised_keys=('image', 'label'),\n",
       "    disable_shuffling=False,\n",
       "    splits={\n",
       "        'test': <SplitInfo num_examples=6149, num_shards=2>,\n",
       "        'train': <SplitInfo num_examples=1020, num_shards=1>,\n",
       "        'validation': <SplitInfo num_examples=1020, num_shards=1>,\n",
       "    },\n",
       "    citation=\"\"\"@InProceedings{Nilsback08,\n",
       "       author = \"Nilsback, M-E. and Zisserman, A.\",\n",
       "       title = \"Automated Flower Classification over a Large Number of Classes\",\n",
       "       booktitle = \"Proceedings of the Indian Conference on Computer Vision, Graphics and Image Processing\",\n",
       "       year = \"2008\",\n",
       "       month = \"Dec\"\n",
       "    }\"\"\",\n",
       ")"
      ]
     },
     "execution_count": 4,
     "metadata": {},
     "output_type": "execute_result"
    }
   ],
   "source": [
    "info"
   ]
  },
  {
   "cell_type": "markdown",
   "id": "a630cf43",
   "metadata": {},
   "source": [
    "#### Image va labellarni preprocessingdan o'tkazamiz "
   ]
  },
  {
   "cell_type": "code",
   "execution_count": 5,
   "id": "7871de3b",
   "metadata": {},
   "outputs": [],
   "source": [
    "train_images,train_labels = tfds.as_numpy(train)\n",
    "test_images,test_labels = tfds.as_numpy(test)\n",
    "validation_images,validation_labels = tfds.as_numpy(validation)"
   ]
  },
  {
   "cell_type": "code",
   "execution_count": 6,
   "id": "183e6662",
   "metadata": {},
   "outputs": [],
   "source": [
    "import cv2\n",
    "import numpy as np\n",
    "\n",
    "def preprocessing(images,label):\n",
    "    images_ = []\n",
    "    \n",
    "    for i in range(len(images)):\n",
    "        image = cv2.cvtColor(images[i], cv2.COLOR_BGR2RGB)\n",
    "        image = cv2.resize(image,(224,224),interpolation = cv2.INTER_AREA)\n",
    "        image = image/127.5-1.0\n",
    "        image = image.astype('float16')\n",
    "        \n",
    "        images_.append(image)\n",
    "        \n",
    "    label = label.astype('uint16')\n",
    "    images = np.array(images_)\n",
    "    return images,label"
   ]
  },
  {
   "cell_type": "code",
   "execution_count": 7,
   "id": "46f2295e",
   "metadata": {},
   "outputs": [
    {
     "name": "stdout",
     "output_type": "stream",
     "text": [
      "Train images shape:(6149, 224, 224, 3)\n",
      "Train labels shape:(6149,)\n"
     ]
    }
   ],
   "source": [
    "train_images,train_labels = preprocessing(train_images,train_labels)\n",
    "print(f\"Train images shape:{train_images.shape}\\nTrain labels shape:{train_labels.shape}\")"
   ]
  },
  {
   "cell_type": "code",
   "execution_count": 8,
   "id": "5f89c89e",
   "metadata": {},
   "outputs": [
    {
     "name": "stdout",
     "output_type": "stream",
     "text": [
      "Test images shape:(1020, 224, 224, 3)\n",
      "Test labels shape:(1020,)\n"
     ]
    }
   ],
   "source": [
    "test_images,test_labels = preprocessing(test_images,test_labels)\n",
    "print(f\"Test images shape:{test_images.shape}\\nTest labels shape:{test_labels.shape}\")"
   ]
  },
  {
   "cell_type": "code",
   "execution_count": 9,
   "id": "e126a130",
   "metadata": {},
   "outputs": [
    {
     "name": "stdout",
     "output_type": "stream",
     "text": [
      "Validation images shape:(1020, 224, 224, 3)\n",
      "Validation labels shape:(1020,)\n"
     ]
    }
   ],
   "source": [
    "validation_images,validation_labels = preprocessing(validation_images,validation_labels)\n",
    "print(f\"Validation images shape:{validation_images.shape}\\nValidation labels shape:{validation_labels.shape}\")"
   ]
  },
  {
   "cell_type": "code",
   "execution_count": 10,
   "id": "a8fc1fbd",
   "metadata": {},
   "outputs": [],
   "source": [
    "train_ds = tf.data.Dataset.from_tensor_slices((train_images,train_labels)).batch(32)\n",
    "\n",
    "test_ds = tf.data.Dataset.from_tensor_slices((test_images,test_labels)).batch(32)\n",
    "\n",
    "validation_ds = tf.data.Dataset.from_tensor_slices((validation_images,validation_labels)).batch(32)"
   ]
  },
  {
   "cell_type": "markdown",
   "id": "e461e8b5",
   "metadata": {},
   "source": [
    "### Model o'qitish uchun VGG-19 arxitekturasidan foydalanamiz\n"
   ]
  },
  {
   "cell_type": "code",
   "execution_count": 11,
   "id": "51d21f16",
   "metadata": {},
   "outputs": [],
   "source": [
    "import tensorflow as tf\n",
    "from tensorflow.keras.layers import Dense, Flatten, Conv2D\n",
    "from tensorflow.keras import Model"
   ]
  },
  {
   "cell_type": "code",
   "execution_count": 12,
   "id": "6b2c0c4b",
   "metadata": {},
   "outputs": [],
   "source": [
    "class MyModel(tf.keras.models.Model):\n",
    "    def __init__(self):\n",
    "        super(MyModel, self).__init__()\n",
    "        \n",
    "        self.block1_1conv = tf.keras.layers.Conv2D(64, (3, 3), activation=tf.keras.activations.relu, padding=\"same\")\n",
    "        self.block1_2conv = tf.keras.layers.Conv2D(64, (3, 3), activation=tf.keras.activations.relu, padding=\"same\")\n",
    "        \n",
    "        self.block2_1conv = tf.keras.layers.Conv2D(128, (3, 3), activation=tf.keras.activations.relu, padding=\"same\")\n",
    "        self.block2_2conv = tf.keras.layers.Conv2D(128, (3, 3), activation=tf.keras.activations.relu, padding=\"same\")\n",
    "        \n",
    "        self.block3_1conv = tf.keras.layers.Conv2D(256, (3, 3), activation=tf.keras.activations.relu, padding=\"same\")\n",
    "        self.block3_2conv = tf.keras.layers.Conv2D(256, (3, 3), activation=tf.keras.activations.relu, padding=\"same\")\n",
    "        self.block3_3conv = tf.keras.layers.Conv2D(256, (3, 3), activation=tf.keras.activations.relu, padding=\"same\")\n",
    "        self.block3_4conv = tf.keras.layers.Conv2D(256, (3, 3), activation=tf.keras.activations.relu, padding=\"same\")\n",
    "        \n",
    "        self.block4_1conv = tf.keras.layers.Conv2D(512, (3, 3), activation=tf.keras.activations.relu, padding=\"same\")\n",
    "        self.block4_2conv = tf.keras.layers.Conv2D(512, (3, 3), activation=tf.keras.activations.relu, padding=\"same\")\n",
    "        self.block4_3conv = tf.keras.layers.Conv2D(512, (3, 3), activation=tf.keras.activations.relu, padding=\"same\")\n",
    "        self.block4_4conv = tf.keras.layers.Conv2D(512, (3, 3), activation=tf.keras.activations.relu, padding=\"same\")\n",
    "        \n",
    "        self.block5_1conv = tf.keras.layers.Conv2D(512, (3, 3), activation=tf.keras.activations.relu, padding=\"same\")\n",
    "        self.block5_2conv = tf.keras.layers.Conv2D(512, (3, 3), activation=tf.keras.activations.relu, padding=\"same\")\n",
    "        self.block5_3conv = tf.keras.layers.Conv2D(512, (3, 3), activation=tf.keras.activations.relu, padding=\"same\")\n",
    "        self.block5_4conv = tf.keras.layers.Conv2D(512, (3, 3), activation=tf.keras.activations.relu, padding=\"same\")\n",
    "        \n",
    "        self.pool = tf.keras.layers.MaxPooling2D((2, 2),strides=2)\n",
    "        \n",
    "        self.flatten = tf.keras.layers.Flatten()\n",
    "        self.hidden_layer1 = tf.keras.layers.Dense(4096, activation=tf.keras.activations.relu)\n",
    "        self.hidden_layer2 = tf.keras.layers.Dense(4096, activation=tf.keras.activations.relu)\n",
    "        self.hidden_layer3 = tf.keras.layers.Dense(1000, activation=tf.keras.activations.relu)\n",
    "        self.output_layer = tf.keras.layers.Dense(102, activation=tf.keras.activations.softmax)\n",
    "        \n",
    "    def call(self, x):\n",
    "        '''Convolutional Layer'''\n",
    "        # Block 1\n",
    "        conv1 = self.block1_1conv(x) # 224x224x64\n",
    "        conv2 = self.block1_2conv(conv1) # 224x224x64\n",
    "        pooling = self.pool(conv2) # 112x112x64\n",
    "\n",
    "        # Block 2\n",
    "        conv3 = self.block2_1conv(pooling) # 112x112x128\n",
    "        conv4 = self.block2_2conv(conv3) # 112x112x128\n",
    "        pooling = self.pool(conv4) # 56x56x128\n",
    "\n",
    "        # Block 3\n",
    "        conv5 = self.block3_1conv(pooling) # 56x56x256\n",
    "        conv6 = self.block3_2conv(conv5) # 56x56x256\n",
    "        conv7 = self.block3_3conv(conv6) # 56x56x256\n",
    "        conv8 = self.block3_4conv(conv7) # 56x56x256\n",
    "        pooling = self.pool(conv8) # 28x28x256\n",
    "        \n",
    "        # Block 4\n",
    "        conv9  = self.block4_1conv(pooling) # 28x28x512\n",
    "        conv10 = self.block4_2conv(conv9) # 28x28x512\n",
    "        conv11 = self.block4_3conv(conv10) # 28x28x512\n",
    "        conv12 = self.block4_4conv(conv11) # 28x28x512\n",
    "        pooling = self.pool(conv12) # 14x14x512\n",
    "        \n",
    "        # Block 5\n",
    "        conv13 = self.block5_1conv(pooling) # 14x14x512\n",
    "        conv14 = self.block5_2conv(conv13) # 14x14x512\n",
    "        conv15 = self.block5_3conv(conv14) # 14x14x512\n",
    "        conv16 = self.block5_4conv(conv15) # 14x14x512\n",
    "        pooling = self.pool(conv16) # 7x7x512\n",
    "        \n",
    "        '''Classification Layer'''\n",
    "        flatten = self.flatten(pooling)\n",
    "        \n",
    "        hidden = self.hidden_layer1(flatten)\n",
    "        hidden = self.hidden_layer2(hidden)\n",
    "        hidden = self.hidden_layer3(hidden)\n",
    "        \n",
    "        return self.output_layer(hidden)\n",
    "\n",
    "model = MyModel()"
   ]
  },
  {
   "cell_type": "code",
   "execution_count": 13,
   "id": "ef74e761",
   "metadata": {},
   "outputs": [],
   "source": [
    "loss_object = tf.keras.losses.SparseCategoricalCrossentropy()\n",
    "\n",
    "optimizer = tf.keras.optimizers.Adam()"
   ]
  },
  {
   "cell_type": "code",
   "execution_count": 14,
   "id": "cc78cc64",
   "metadata": {},
   "outputs": [],
   "source": [
    "train_loss = tf.keras.metrics.Mean(name='train_loss')\n",
    "train_accuracy = tf.keras.metrics.SparseCategoricalAccuracy(name='train_accuracy')\n",
    "\n",
    "test_loss = tf.keras.metrics.Mean(name='test_loss')\n",
    "test_accuracy = tf.keras.metrics.SparseCategoricalAccuracy(name='test_accuracy')"
   ]
  },
  {
   "cell_type": "code",
   "execution_count": 15,
   "id": "ad87e757",
   "metadata": {},
   "outputs": [],
   "source": [
    "@tf.function\n",
    "def train_step(images, labels):\n",
    "    with tf.GradientTape() as tape:\n",
    "\n",
    "        predictions = model(images, training=True)\n",
    "        loss = loss_object(labels, predictions)\n",
    "        \n",
    "    gradients = tape.gradient(loss, model.trainable_variables)\n",
    "    optimizer.apply_gradients(zip(gradients, model.trainable_variables))\n",
    "\n",
    "    train_loss(loss)\n",
    "    train_accuracy(labels, predictions)"
   ]
  },
  {
   "cell_type": "code",
   "execution_count": 16,
   "id": "215633a8",
   "metadata": {},
   "outputs": [],
   "source": [
    "@tf.function\n",
    "def test_step(images, labels):\n",
    "    \n",
    "    predictions = model(images, training=False)\n",
    "    t_loss = loss_object(labels, predictions)\n",
    "\n",
    "    test_loss(t_loss)\n",
    "    test_accuracy(labels, predictions)\n",
    "    "
   ]
  },
  {
   "cell_type": "code",
   "execution_count": 18,
   "id": "05fe39ab",
   "metadata": {},
   "outputs": [
    {
     "name": "stdout",
     "output_type": "stream",
     "text": [
      "** 1-epoch:\n",
      "loss: 62.39342498779297\tsparse_categorical_accuracy: 0.0351276621222496\n",
      "val_loss: 4.952834129333496\tval_sparse_categorical_accuracy:0.009803921915590763\n",
      "** 2-epoch:\n",
      "loss: 4.431094646453857\tsparse_categorical_accuracy: 0.03756708279252052\n",
      "val_loss: 4.864556789398193\tval_sparse_categorical_accuracy:0.009803921915590763\n",
      "** 3-epoch:\n",
      "loss: 4.426392078399658\tsparse_categorical_accuracy: 0.03610343113541603\n",
      "val_loss: 4.809947490692139\tval_sparse_categorical_accuracy:0.009803921915590763\n",
      "** 4-epoch:\n",
      "loss: 4.423429012298584\tsparse_categorical_accuracy: 0.036266058683395386\n",
      "val_loss: 4.7930121421813965\tval_sparse_categorical_accuracy:0.009803921915590763\n",
      "** 5-epoch:\n",
      "loss: 4.421780586242676\tsparse_categorical_accuracy: 0.036916572600603104\n",
      "val_loss: 4.792108058929443\tval_sparse_categorical_accuracy:0.009803921915590763\n",
      "** 6-epoch:\n",
      "loss: 4.420808792114258\tsparse_categorical_accuracy: 0.038054969161748886\n",
      "val_loss: 4.793202877044678\tval_sparse_categorical_accuracy:0.009803921915590763\n",
      "** 7-epoch:\n",
      "loss: 4.420126438140869\tsparse_categorical_accuracy: 0.038705479353666306\n",
      "val_loss: 4.795022487640381\tval_sparse_categorical_accuracy:0.009803921915590763\n",
      "** 8-epoch:\n",
      "loss: 4.419490337371826\tsparse_categorical_accuracy: 0.038705479353666306\n",
      "val_loss: 4.796225070953369\tval_sparse_categorical_accuracy:0.009803921915590763\n",
      "** 9-epoch:\n",
      "loss: 4.419024467468262\tsparse_categorical_accuracy: 0.038705479353666306\n",
      "val_loss: 4.798096656799316\tval_sparse_categorical_accuracy:0.009803921915590763\n",
      "** 10-epoch:\n",
      "loss: 4.418544769287109\tsparse_categorical_accuracy: 0.038705479353666306\n",
      "val_loss: 4.800112247467041\tval_sparse_categorical_accuracy:0.009803921915590763\n"
     ]
    }
   ],
   "source": [
    "EPOCHS = 10\n",
    "\n",
    "loss,val_loss = [],[]\n",
    "accuracy, val_accuracy = [],[]\n",
    "\n",
    "for epoch in range(EPOCHS):\n",
    "\n",
    "    train_loss.reset_states()\n",
    "    train_accuracy.reset_states()\n",
    "    \n",
    "    test_loss.reset_states()\n",
    "    test_accuracy.reset_states()\n",
    "\n",
    "    for images, labels in train_ds:\n",
    "        train_step(images, labels)\n",
    "\n",
    "    for val_images, val_labels in validation_ds:\n",
    "        test_step(val_images, val_labels)\n",
    "    \n",
    "    loss.append(train_loss.result())\n",
    "    accuracy.append(train_accuracy.result())\n",
    "    \n",
    "    val_loss.append(test_loss.result())\n",
    "    val_accuracy.append(test_accuracy.result())\n",
    "    \n",
    "    print(f\"** {epoch + 1}-epoch:\\nloss: {train_loss.result()}\\tsparse_categorical_accuracy: {train_accuracy.result()}\\nval_loss: {test_loss.result()}\\tval_sparse_categorical_accuracy:{test_accuracy.result()}\")"
   ]
  },
  {
   "cell_type": "code",
   "execution_count": 19,
   "id": "800c7903",
   "metadata": {},
   "outputs": [
    {
     "name": "stdout",
     "output_type": "stream",
     "text": [
      "test_loss: 4.799952030181885\n",
      "test_accuracy: 0.009803921915590763\n"
     ]
    }
   ],
   "source": [
    "for test_images,test_labels in test_ds:\n",
    "    test_step(test_images, test_labels)\n",
    "    \n",
    "print(f\"test_loss: {test_loss.result()}\\ntest_accuracy: {test_accuracy.result()}\")"
   ]
  },
  {
   "cell_type": "code",
   "execution_count": 22,
   "id": "aa866f76",
   "metadata": {},
   "outputs": [
    {
     "data": {
      "image/png": "[encoded data removed]",
      "text/plain": [
       "<Figure size 640x480 with 1 Axes>"
      ]
     },
     "metadata": {},
     "output_type": "display_data"
    }
   ],
   "source": [
    "import matplotlib.pyplot as plt\n",
    "epochs = [i for i in range(EPOCHS)]\n",
    "\n",
    "plt.plot(epochs, loss, label='loss')\n",
    "plt.plot(epochs, val_loss, label='val_loss')\n",
    "plt.legend()\n",
    "plt.show()"
   ]
  },
  {
   "cell_type": "code",
   "execution_count": 23,
   "id": "66e728c9",
   "metadata": {},
   "outputs": [
    {
     "data": {
      "image/png": "[encoded data removed]",
      "text/plain": [
       "<Figure size 640x480 with 1 Axes>"
      ]
     },
     "metadata": {},
     "output_type": "display_data"
    }
   ],
   "source": [
    "plt.plot(epochs, accuracy, label='accuracy')\n",
    "plt.plot(epochs, val_accuracy, label='val_accuracy')\n",
    "plt.legend()\n",
    "plt.show()"
   ]
  },
  {
   "cell_type": "code",
   "execution_count": 24,
   "id": "3a9c2067",
   "metadata": {},
   "outputs": [
    {
     "name": "stdout",
     "output_type": "stream",
     "text": [
      "Model: \"my_model\"\n",
      "_________________________________________________________________\n",
      " Layer (type)                Output Shape              Param #   \n",
      "=================================================================\n",
      " conv2d (Conv2D)             multiple                  1792      \n",
      "                                                                 \n",
      " conv2d_1 (Conv2D)           multiple                  36928     \n",
      "                                                                 \n",
      " conv2d_2 (Conv2D)           multiple                  73856     \n",
      "                                                                 \n",
      " conv2d_3 (Conv2D)           multiple                  147584    \n",
      "                                                                 \n",
      " conv2d_4 (Conv2D)           multiple                  295168    \n",
      "                                                                 \n",
      " conv2d_5 (Conv2D)           multiple                  590080    \n",
      "                                                                 \n",
      " conv2d_6 (Conv2D)           multiple                  590080    \n",
      "                                                                 \n",
      " conv2d_7 (Conv2D)           multiple                  590080    \n",
      "                                                                 \n",
      " conv2d_8 (Conv2D)           multiple                  1180160   \n",
      "                                                                 \n",
      " conv2d_9 (Conv2D)           multiple                  2359808   \n",
      "                                                                 \n",
      " conv2d_10 (Conv2D)          multiple                  2359808   \n",
      "                                                                 \n",
      " conv2d_11 (Conv2D)          multiple                  2359808   \n",
      "                                                                 \n",
      " conv2d_12 (Conv2D)          multiple                  2359808   \n",
      "                                                                 \n",
      " conv2d_13 (Conv2D)          multiple                  2359808   \n",
      "                                                                 \n",
      " conv2d_14 (Conv2D)          multiple                  2359808   \n",
      "                                                                 \n",
      " conv2d_15 (Conv2D)          multiple                  2359808   \n",
      "                                                                 \n",
      " max_pooling2d (MaxPooling2D  multiple                 0         \n",
      " )                                                               \n",
      "                                                                 \n",
      " flatten (Flatten)           multiple                  0         \n",
      "                                                                 \n",
      " dense (Dense)               multiple                  102764544 \n",
      "                                                                 \n",
      " dense_1 (Dense)             multiple                  16781312  \n",
      "                                                                 \n",
      " dense_2 (Dense)             multiple                  4097000   \n",
      "                                                                 \n",
      " dense_3 (Dense)             multiple                  102102    \n",
      "                                                                 \n",
      "=================================================================\n",
      "Total params: 143,769,342\n",
      "Trainable params: 143,769,342\n",
      "Non-trainable params: 0\n",
      "_________________________________________________________________\n"
     ]
    }
   ],
   "source": [
    "model.summary()"
   ]
  },
  {
   "cell_type": "code",
   "execution_count": 25,
   "id": "ceaed1af",
   "metadata": {},
   "outputs": [
    {
     "name": "stderr",
     "output_type": "stream",
     "text": [
      "WARNING:absl:Found untraced functions such as _jit_compiled_convolution_op, _jit_compiled_convolution_op, _jit_compiled_convolution_op, _jit_compiled_convolution_op, _jit_compiled_convolution_op while saving (showing 5 of 16). These functions will not be directly callable after loading.\n"
     ]
    },
    {
     "name": "stdout",
     "output_type": "stream",
     "text": [
      "INFO:tensorflow:Assets written to: models/VGG-19/model\\assets\n"
     ]
    },
    {
     "name": "stderr",
     "output_type": "stream",
     "text": [
      "INFO:tensorflow:Assets written to: models/VGG-19/model\\assets\n"
     ]
    }
   ],
   "source": [
    "model.save('models/VGG-19/model')"
   ]
  }
 ],
 "metadata": {
  "kernelspec": {
   "display_name": "Python 3 (ipykernel)",
   "language": "python",
   "name": "python3"
  },
  "language_info": {
   "codemirror_mode": {
    "name": "ipython",
    "version": 3
   },
   "file_extension": ".py",
   "mimetype": "text/x-python",
   "name": "python",
   "nbconvert_exporter": "python",
   "pygments_lexer": "ipython3",
   "version": "3.8.10"
  }
 },
 "nbformat": 4,
 "nbformat_minor": 5
}
